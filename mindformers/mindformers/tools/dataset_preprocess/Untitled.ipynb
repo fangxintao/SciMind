{
 "cells": [
  {
   "cell_type": "code",
   "execution_count": null,
   "id": "f1ee0194-16ac-4913-baa5-8252ed155b44",
   "metadata": {},
   "outputs": [],
   "source": [
    "import moxing as mox\n",
    "mox.file.copy_parallel(\"obs://obs-cloud/2024_llama2/llama2-7b-model/llama2-chat-emb-32067.ckpt\", \"/home/ma-user/work/base_llama2_ckpt/\")"
   ]
  },
  {
   "cell_type": "code",
   "execution_count": null,
   "id": "020a5d47-5fcb-4637-bab3-89a85937c057",
   "metadata": {},
   "outputs": [],
   "source": []
  }
 ],
 "metadata": {
  "kernelspec": {
   "display_name": "MindSpore",
   "language": "python",
   "name": "mindspore"
  },
  "language_info": {
   "codemirror_mode": {
    "name": "ipython",
    "version": 3
   },
   "file_extension": ".py",
   "mimetype": "text/x-python",
   "name": "python",
   "nbconvert_exporter": "python",
   "pygments_lexer": "ipython3",
   "version": "3.9.18"
  }
 },
 "nbformat": 4,
 "nbformat_minor": 5
}
